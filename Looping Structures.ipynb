{
 "cells": [
  {
   "cell_type": "markdown",
   "id": "44f6fc00",
   "metadata": {},
   "source": [
    "<!-- ### Looping Structures\n",
    "\n",
    "1. Write a program to print numbers from 1 to 10. \n",
    "\n",
    "2. Write a program that asks the user for a positive integer value. The program should calculate the sum of all the integers from 1 up to the number entered. For example, if the user enters 20, the loop will find the sum of 1, 2, 3, 4, ... 20. Solution\n",
    "\n",
    "3. Write a program that prompts the user to input a number and prints its mulitiplication table. \n",
    "\n",
    "4. Write a program that prompts the user to input a number and prints its factorial. The factorial of an integer n is defined as n! = 1 x 2 x 3 x ... x n; if n > 0 = 1; if n = 0 For instance, 6! can be calculated as 1 x 2 x 3 x 4 x 5 x \n",
    "\n",
    "5. Two numbers are entered through the keyboard. Write a program to find the value of one number raised to the power of another. \n",
    "\n",
    "6. Write a program that prompts the user to input a number and reverse its digits. For example, the reverse of 12345 is 54321; reverse of 5600 is 65. Solution\n",
    "\n",
    "7. Write a program that asks the user to input a positive integer. Your program should find and display the sum of digits of number. For example, sum of digits of number 32518 is 3+2+5+1+8 = 19. Solution\n",
    "\n",
    "8. A palindromic number is a number that remains the same when its digits are reversed. For example, 16461. Write a program that prompts the user to input a number and determine whether the number is palindrome or not. \n",
    "\n",
    "9. Write a program that prompts the user to input a decimal integer and display its binary equivalent. \n",
    "\n",
    "10. Write a program that prompts the user to input a binary number and display its decimal equivalent. \n",
    "\n",
    "11. Write a program that prompts the user to input a positive integer. It should then output a message indicating whether the number is a prime number. A prime number is a number that is evenly divisible only by itself and 1. For example, the number 5 is prime because it can be evenly divided only by 1 and 5. The number 6, however, is not prime because it can be divided evenly by I, 2, 3, and 6. Solution\n",
    "\n",
    "12. Write a program that prompts the user to input two numbers and display its HCF. The Highest Common Factor (HCF) also called the Greatest Common Divisor (GCD) of two whole numbers, is the largest whole number that's a factor of both of them. \n",
    "\n",
    "13. Write a program to enter the numbers till the user wants and at the end it should display the count of positive, negative and zeros entered. \n",
    "\n",
    "14. Write a program to enter the numbers till the user wants and at the end the program should display the largest and smallest numbers entered. \n",
    "\n",
    "15. An Armstrong number of three digits is an integer such that the sum of the cubes of its digits is equal to the number itself. For example, 371 is an Armstrong number since 33 + 73 + 13 = 371. Write a program to find all Armstrong number in the range of 0 and 999 Solution\n",
    "\n",
    "16. Write a program to obtain the first 25 numbers of a Fibonacci sequence. In a Fibonacci sequence the sum of two successive terms gives the third term. Following are the first few terms of the Fibonacci sequence: \n",
    "0 1 1 2 3 5 8 13 21 34 55 89... \n",
    "\n",
    "17. Write a program to add first seven terms of the following series using a for loop: \n",
    " Solution\n",
    "\n",
    "18. Compute the sum up to n terms in the series\n",
    "1 - 1/2 + 1/3 - 1/4 + 1/5 -... 1/n\n",
    "where n is a positive integer and input by user. \n",
    "\n",
    "19. Write programs to print following patterns :\n",
    "\n",
    "1.\n",
    "**********\n",
    "**********\n",
    "**********\n",
    "**********\n",
    "        \n",
    "2.\n",
    "*\n",
    "**\n",
    "***\n",
    "****\n",
    "*****\n",
    "3.\n",
    "    *\n",
    "   **\n",
    "  ***\n",
    " ****\n",
    "*****\n",
    "4.\n",
    "    *\n",
    "   ***\n",
    "  *****\n",
    " *******\n",
    "*********\n",
    "5.\n",
    "    1\n",
    "   222\n",
    "  33333\n",
    " 4444444\n",
    "555555555\n",
    "6.\n",
    "    1\n",
    "   212\n",
    "  32123\n",
    " 4321234\n",
    "543212345 -->"
   ]
  },
  {
   "cell_type": "code",
   "execution_count": 2,
   "id": "40eff407",
   "metadata": {
    "scrolled": true
   },
   "outputs": [
    {
     "name": "stdout",
     "output_type": "stream",
     "text": [
      "1\n",
      "2\n",
      "3\n",
      "4\n",
      "5\n",
      "6\n",
      "7\n",
      "8\n",
      "9\n",
      "10\n"
     ]
    }
   ],
   "source": [
    "#1.Write a program to print numbers from 1 to 10.\n",
    "for i in range(10):\n",
    "    print(i+1)\n"
   ]
  },
  {
   "cell_type": "code",
   "execution_count": 5,
   "id": "9262712b-cf4e-4471-bb90-1f2440aa3635",
   "metadata": {},
   "outputs": [
    {
     "name": "stdin",
     "output_type": "stream",
     "text": [
      "Enter the number: 5\n"
     ]
    },
    {
     "name": "stdout",
     "output_type": "stream",
     "text": [
      "the sum of numbers from 1 to 5 is 15\n"
     ]
    }
   ],
   "source": [
    "#2.Write a program that asks the user for a positive integer value. The program should calculate the sum of all the integers from 1 up to the number entered. For example, if the user enters 20, the loop will find the sum of 1, 2, 3, 4, ... 20. Solution\n",
    "\n",
    "n = int(input(\"Enter the number:\"))\n",
    "sum=0\n",
    "for i in range(n):\n",
    "    sum+=i+1\n",
    "print(f\"the sum of numbers from 1 to {n} is {sum}\")"
   ]
  },
  {
   "cell_type": "code",
   "execution_count": 8,
   "id": "c4e1d57a-729c-4451-9f51-6309dac3eab7",
   "metadata": {},
   "outputs": [
    {
     "name": "stdin",
     "output_type": "stream",
     "text": [
      "Enter the number: 12\n"
     ]
    },
    {
     "name": "stdout",
     "output_type": "stream",
     "text": [
      "the multiplication table of 12:\n",
      "1 X 12 = 12\n",
      "2 X 12 = 24\n",
      "3 X 12 = 36\n",
      "4 X 12 = 48\n",
      "5 X 12 = 60\n",
      "6 X 12 = 72\n",
      "7 X 12 = 84\n",
      "8 X 12 = 96\n",
      "9 X 12 = 108\n",
      "10 X 12 = 120\n"
     ]
    }
   ],
   "source": [
    "#3.Write a program that prompts the user to input a number and prints its mulitiplication table.\n",
    "\n",
    "n = int(input(\"Enter the number:\"))\n",
    "table=0\n",
    "print(f\"the multiplication table of {n}:\")\n",
    "for i in range(10):\n",
    "    table=(i+1)*n\n",
    "    print(f\"{i+1} X {n} = {table}\")\n"
   ]
  },
  {
   "cell_type": "code",
   "execution_count": 8,
   "id": "e379f34d-bb28-42a7-afde-c9a13e2218e1",
   "metadata": {},
   "outputs": [
    {
     "name": "stdin",
     "output_type": "stream",
     "text": [
      "Enter the number: 5\n"
     ]
    },
    {
     "name": "stdout",
     "output_type": "stream",
     "text": [
      "Factorial of 5! = 120\n"
     ]
    }
   ],
   "source": [
    "#4.Write a program that prompts the user to input a number and prints its factorial. The factorial of an integer n is defined as n! = 1 x 2 x 3 x ... x n; if n > 0 = 1; if n = 0 For instance, 6! can be calculated as 1 x 2 x 3 x 4 x 5 x\n",
    "\n",
    "n = int(input(\"Enter the number:\"))\n",
    "fact=1\n",
    "if n==0:\n",
    "    print()\n",
    "else:\n",
    "    for i in range(n):\n",
    "        fact*=i+1\n",
    "print(f\"Factorial of {n}! = {fact}\")\n",
    "\n"
   ]
  },
  {
   "cell_type": "code",
   "execution_count": 12,
   "id": "9f73c64b-f4c4-49e5-838d-6c6cc76ceedc",
   "metadata": {},
   "outputs": [
    {
     "name": "stdin",
     "output_type": "stream",
     "text": [
      "Enter the 1st number: 2\n",
      "Enter the 2nd number: 3\n"
     ]
    },
    {
     "name": "stdout",
     "output_type": "stream",
     "text": [
      "8\n"
     ]
    }
   ],
   "source": [
    "#5.Two numbers are entered through the keyboard. Write a program to find the value of one number raised to the power of another.\n",
    "\n",
    "n1 = int(input(\"Enter the 1st number:\"))\n",
    "n2 = int(input(\"Enter the 2nd number:\"))\n",
    "ans = n1**n2\n",
    "print(ans)"
   ]
  },
  {
   "cell_type": "code",
   "execution_count": 11,
   "id": "f63e22de-5d81-432c-b505-436b5f31763c",
   "metadata": {},
   "outputs": [
    {
     "name": "stdin",
     "output_type": "stream",
     "text": [
      "Enter the 1st number: 2\n",
      "Enter the 2nd number: 3\n"
     ]
    },
    {
     "name": "stdout",
     "output_type": "stream",
     "text": [
      "8\n"
     ]
    }
   ],
   "source": [
    "#5.Two numbers are entered through the keyboard. Write a program to find the value of one number raised to the power of another.\n",
    "\n",
    "n1 = int(input(\"Enter the 1st number:\"))\n",
    "n2 = int(input(\"Enter the 2nd number:\"))\n",
    "ans = 1\n",
    "for i in range(n2):\n",
    "    ans*=n1\n",
    "print(ans)"
   ]
  },
  {
   "cell_type": "code",
   "execution_count": 17,
   "id": "a16d0514-a24d-44ee-9bb0-87bf826ad8be",
   "metadata": {},
   "outputs": [
    {
     "name": "stdin",
     "output_type": "stream",
     "text": [
      "Enter the number: 12345\n"
     ]
    },
    {
     "name": "stdout",
     "output_type": "stream",
     "text": [
      "54321\n"
     ]
    }
   ],
   "source": [
    "#6.Write a program that prompts the user to input a number and reverse its digits. For example, the reverse of 12345 is 54321; reverse of 5600 is 65. \n",
    "\n",
    "\n",
    "n1 = int(input(\"Enter the number:\"))\n",
    "length=len(str(n1))\n",
    "n2=0\n",
    "for i in range(length):\n",
    "    n=n1%10\n",
    "    n2=(n2*10)+n\n",
    "    n1//=10\n",
    "print(n2)"
   ]
  },
  {
   "cell_type": "code",
   "execution_count": 3,
   "id": "e9e2673e-9604-4d3e-82ec-7813215875a3",
   "metadata": {},
   "outputs": [
    {
     "name": "stdin",
     "output_type": "stream",
     "text": [
      "Enter the number: 12345\n"
     ]
    },
    {
     "name": "stdout",
     "output_type": "stream",
     "text": [
      "15\n"
     ]
    }
   ],
   "source": [
    "#7.Write a program that asks the user to input a positive integer. Your program should find and display the sum of digits of number. For example, sum of digits of number 32518 is 3+2+5+1+8 = 19.\n",
    "\n",
    "n = int(input(\"Enter the number:\"))\n",
    "length=len(str(n))\n",
    "sumn=0\n",
    "for i in range(length):\n",
    "    dig=n%10\n",
    "    sumn+=dig\n",
    "    n//=10\n",
    "print(sumn)"
   ]
  },
  {
   "cell_type": "code",
   "execution_count": 14,
   "id": "7f69b8a7-b119-4bdf-8a1b-a4cd6ab8d757",
   "metadata": {},
   "outputs": [
    {
     "name": "stdin",
     "output_type": "stream",
     "text": [
      "Enter the number: 1234321\n"
     ]
    },
    {
     "name": "stdout",
     "output_type": "stream",
     "text": [
      "The number is a palindrome\n"
     ]
    }
   ],
   "source": [
    "#8. palindromic number is a number that remains the same when its digits are reversed. For example, 16461. Write a program that prompts the user to input a number and determine whether the number is palindrome or not.\n",
    "n = int(input(\"Enter the number:\"))\n",
    "length=len(str(n))\n",
    "n1=n\n",
    "revn=0\n",
    "for i in range(length):\n",
    "    n2=n%10\n",
    "    revn=(revn*10)+n2\n",
    "    n//=10\n",
    "if revn == n1:\n",
    "    print(\"The number is a palindrome\")\n",
    "else:\n",
    "    print(\"The number is not a palindrome\")"
   ]
  },
  {
   "cell_type": "code",
   "execution_count": 6,
   "id": "e2fce8a6-1ca5-4858-ad7c-b6bc90ed602a",
   "metadata": {},
   "outputs": [
    {
     "name": "stdin",
     "output_type": "stream",
     "text": [
      "Enter the number: 35\n"
     ]
    },
    {
     "name": "stdout",
     "output_type": "stream",
     "text": [
      "100011\n"
     ]
    }
   ],
   "source": [
    "#9.Write a program that prompts the user to input a decimal integer and display its binary equivalent.\n",
    "\n",
    "number = int(input(\"Enter the number:\"))\n",
    "rem=\"\"\n",
    "i=0\n",
    "while number//2!=0:\n",
    "    rem+=str(number%2)\n",
    "    number=number//2\n",
    "\n",
    "rem+=str(number%2)\n",
    "print(rem[::-1])\n",
    "    "
   ]
  },
  {
   "cell_type": "code",
   "execution_count": 7,
   "id": "8b628581-1406-4a82-97c7-5c5bcbf5cf1c",
   "metadata": {},
   "outputs": [
    {
     "name": "stdin",
     "output_type": "stream",
     "text": [
      "Enter the binary number: 100011\n"
     ]
    },
    {
     "name": "stdout",
     "output_type": "stream",
     "text": [
      "The decimaldigit is: 35\n"
     ]
    }
   ],
   "source": [
    "#10.Write a program that prompts the user to input a binary number and display its decimal equivalent\n",
    "num = input(\"Enter the binary number:\")\n",
    "dec=0\n",
    "dig=len(num)\n",
    "for i in range(dig):\n",
    "    n=int(num[i])*(2**(dig-(i+1)))\n",
    "    dec+=n\n",
    "print(f\"The decimaldigit is: {dec}\")"
   ]
  },
  {
   "cell_type": "code",
   "execution_count": 19,
   "id": "e0cab905-5ef8-4d4b-ad9a-fde900dfb6b4",
   "metadata": {},
   "outputs": [
    {
     "name": "stdin",
     "output_type": "stream",
     "text": [
      "Enter the binary number: 50\n"
     ]
    },
    {
     "name": "stdout",
     "output_type": "stream",
     "text": [
      "the number is not a prime number\n"
     ]
    }
   ],
   "source": [
    "#11. Write a program that prompts the user to input a positive integer. It should then output a message indicating whether the number is a prime number. A prime number is a number that is evenly divisible only by itself and 1. For example, the number 5 is prime because it can be evenly divided only by 1 and 5. The number 6, however, is not prime because it can be divided evenly by I, 2, 3, and 6.\n",
    "\n",
    "num = int(input(\"Enter the number:\"))\n",
    "count=0\n",
    "if num>1:\n",
    "    for i in range(2,(num//2)+1):\n",
    "        if (num%i==0):\n",
    "            count=1\n",
    "            break\n",
    "    if count==0:\n",
    "        print(\"The number is a prime number\")\n",
    "    else:\n",
    "        print(\"the number is not a prime number\")\n",
    "else:\n",
    "    print(\"the number is not a prime number\")\n",
    "              "
   ]
  },
  {
   "cell_type": "code",
   "execution_count": 23,
   "id": "9b7ec775-1661-4d9b-9899-4633fabdc943",
   "metadata": {},
   "outputs": [
    {
     "name": "stdin",
     "output_type": "stream",
     "text": [
      "Enter the first number: 7\n",
      "Enter the second number: 11\n"
     ]
    },
    {
     "name": "stdout",
     "output_type": "stream",
     "text": [
      "The HCF of 7 and 11 is 1\n"
     ]
    }
   ],
   "source": [
    "#12. Write a program that prompts the user to input two numbers and display its HCF. The Highest Common Factor (HCF) also called the Greatest Common Divisor (GCD) of two whole numbers, is the largest whole number that's a factor of both of them. \n",
    "\n",
    "n1 = int(input(\"Enter the first number:\"))\n",
    "n2 = int(input(\"Enter the second number:\"))\n",
    "s = n1\n",
    "if n2<n1:\n",
    "    s=n2\n",
    "for i in range(1,s+1):\n",
    "    if (n1%i==0 and n2%i==0):\n",
    "        hcf = i\n",
    "print(f\"The HCF of {n1} and {n2} is {hcf}\")"
   ]
  },
  {
   "cell_type": "code",
   "execution_count": 25,
   "id": "d23f53f1-d5cd-4d29-82c4-c25f3903b766",
   "metadata": {},
   "outputs": [
    {
     "name": "stdin",
     "output_type": "stream",
     "text": [
      "How many numbers you want: 3\n",
      "Enter the first number: -2\n",
      "Enter the first number: -3\n",
      "Enter the first number: -4\n"
     ]
    },
    {
     "name": "stdout",
     "output_type": "stream",
     "text": [
      "The number of positive numbers: 0, negative numbers: 3, zeros: 0\n"
     ]
    }
   ],
   "source": [
    "#13. Write a program to enter the numbers till the user wants and at the end it should display the count of positive, negative and zeros ent\n",
    "n = int(input(\"How many numbers you want:\"))\n",
    "countp=0\n",
    "countn=0\n",
    "countz=0\n",
    "for i in range(n):\n",
    "    n1 = int(input(\"Enter the number:\"))\n",
    "    if n1>0:\n",
    "        countp+=1\n",
    "    elif n1<0:\n",
    "        countn+=1\n",
    "    else:\n",
    "        countz+=1\n",
    "print(f\"The number of positive numbers: {countp}, negative numbers: {countn}, zeros: {countz}\")"
   ]
  },
  {
   "cell_type": "code",
   "execution_count": 30,
   "id": "f7b9238a-a5b4-42ab-933a-9a488dcf642a",
   "metadata": {},
   "outputs": [
    {
     "name": "stdin",
     "output_type": "stream",
     "text": [
      "How many numbers you want: 6\n",
      "Enter the number: 7\n",
      "Enter the number: 8\n",
      "Enter the number: 9\n",
      "Enter the number: 4\n",
      "Enter the number: 3\n",
      "Enter the number: 5\n"
     ]
    },
    {
     "name": "stdout",
     "output_type": "stream",
     "text": [
      "The largest number:9, smallest number:3\n"
     ]
    }
   ],
   "source": [
    "#14. Write a program to enter the numbers till the user wants and at the end the program should display the largest and smallest numbers entered. \n",
    "n = int(input(\"How many numbers you want:\"))\n",
    "n1 = int(input(\"Enter the number:\"))\n",
    "large=n1\n",
    "small=n1\n",
    "for i in range(n-1):\n",
    "    n1 = int(input(\"Enter the number:\"))\n",
    "    if n1>large:\n",
    "        large=n1\n",
    "    if n1<small:\n",
    "        small=n1\n",
    "print(f\"The largest number:{large}, smallest number:{small}\")\n"
   ]
  },
  {
   "cell_type": "code",
   "execution_count": 42,
   "id": "b68c0d08-cf77-4953-bfe4-4d74d4bc17a8",
   "metadata": {},
   "outputs": [
    {
     "name": "stdin",
     "output_type": "stream",
     "text": [
      "Enter the number: 137\n"
     ]
    },
    {
     "name": "stdout",
     "output_type": "stream",
     "text": [
      "137 is not an Armstrong number\n"
     ]
    }
   ],
   "source": [
    "#15. An Armstrong number of three digits is an integer such that the sum of the cubes of its digits is equal to the number itself. For example, 371 is an Armstrong number since 33 + 73 + 13 = 371. Write a program to find all Armstrong number in the range of 0 and 999.\n",
    "num = input(\"Enter the number:\")\n",
    "n=int(num)\n",
    "s = len(num)\n",
    "sums=0\n",
    "for i in range(s):\n",
    "    r=n%10\n",
    "    sums+=r**3\n",
    "    n=n//10\n",
    "if sums==int(num):\n",
    "    print(f\"{num} is an Armstrong number\")\n",
    "else:\n",
    "    \n",
    "    print(f\"{num} is not an Armstrong number\")"
   ]
  },
  {
   "cell_type": "code",
   "execution_count": 10,
   "id": "1be4b233-12f9-4072-86ac-e714ac2cbccd",
   "metadata": {},
   "outputs": [
    {
     "name": "stdin",
     "output_type": "stream",
     "text": [
      "Enter the number of Fibonacci sequence required: 25\n"
     ]
    },
    {
     "name": "stdout",
     "output_type": "stream",
     "text": [
      "0  1  1  2  3  5  8  13  21  34  55  89  144  233  377  610  987  1597  2584  4181  6765  10946  17711  28657  46368  "
     ]
    }
   ],
   "source": [
    "#16. Write a program to obtain the first 25 numbers of a Fibonacci sequence. In a Fibonacci sequence the sum of two successive terms gives the third term. Following are the first few terms of the Fibonacci sequence: \n",
    "#0 1 1 2 3 5 8 13 21 34 55 89... \n",
    "\n",
    "num = int(input(\"Enter the number of Fibonacci sequence required:\"))\n",
    "sum=0\n",
    "n1=0\n",
    "n2=1\n",
    "print(sum,end=\"  \")\n",
    "for i in range(num-1):\n",
    "    print(n2,end=\"  \")\n",
    "    sum=n1+n2\n",
    "    n1=n2\n",
    "    n2=sum"
   ]
  },
  {
   "cell_type": "code",
   "execution_count": 17,
   "id": "ba72c4ca-dbbe-43d7-906b-8425b46b4eba",
   "metadata": {},
   "outputs": [
    {
     "name": "stdin",
     "output_type": "stream",
     "text": [
      "Enter the value of n: 7\n"
     ]
    },
    {
     "name": "stdout",
     "output_type": "stream",
     "text": [
      "1/1  -1/2  1/3  -1/4  1/5  -1/6  1/7  \n",
      " sum=0.76\n"
     ]
    }
   ],
   "source": [
    "#17. Write a program to add first seven terms of the following series using a for loop: \n",
    "\n",
    "n=int(input(\"Enter the value of n:\"))\n",
    "sum=0\n",
    "for i in range(1,n+1):\n",
    "    sign=((-1)**(i-1))\n",
    "    series=sign*(1/i)\n",
    "    print(f\"{sign}/{i}\",end=\"  \")\n",
    "    sum+=series\n",
    "print(f\"\\n sum={round(sum,2)}\")\n",
    "\n",
    "\n"
   ]
  },
  {
   "cell_type": "code",
   "execution_count": null,
   "id": "10471f30-217b-4760-b166-a483beccf537",
   "metadata": {},
   "outputs": [],
   "source": [
    "#18. Compute the sum up to n terms in the series\n",
    "#1 - 1/2 + 1/3 - 1/4 + 1/5 -... 1/n\n",
    "#where n is a positive integer and input by user. \n",
    "\n",
    "n=int(input(\"Enter a positive value for n:\"))\n",
    "sum=0\n",
    "for i in range(1,n+1):\n",
    "    sign=((-1)**(i-1))\n",
    "    series=sign*(1/i)\n",
    "    print(f\"{sign}/{i}\",end=\"  \")\n",
    "    sum+=series\n",
    "print(f\"\\n sum={round(sum,2)}\")"
   ]
  },
  {
   "cell_type": "code",
   "execution_count": 20,
   "id": "0ae7e876-3ae6-43b1-bf85-437e2ecf864c",
   "metadata": {},
   "outputs": [
    {
     "name": "stdout",
     "output_type": "stream",
     "text": [
      "**********\n",
      "\n",
      "**********\n",
      "\n",
      "**********\n",
      "\n",
      "**********\n",
      "\n"
     ]
    }
   ],
   "source": [
    "#19. Write programs to print following patterns :\n",
    "\n",
    "# 1.\n",
    "# **********\n",
    "# **********\n",
    "# **********\n",
    "# **********\n",
    "\n",
    "for i in range(4):\n",
    "    for j in range(10):\n",
    "        print(\"*\",end=\"\")\n",
    "    print(\"\\n\")"
   ]
  },
  {
   "cell_type": "code",
   "execution_count": 23,
   "id": "5928b820-e492-47b1-9e2a-c33f96803a24",
   "metadata": {},
   "outputs": [
    {
     "name": "stdout",
     "output_type": "stream",
     "text": [
      "*\n",
      "\n",
      "**\n",
      "\n",
      "***\n",
      "\n",
      "****\n",
      "\n",
      "*****\n",
      "\n"
     ]
    }
   ],
   "source": [
    "# 19-2.\n",
    "# *\n",
    "# **\n",
    "# ***\n",
    "# ****\n",
    "# *****\n",
    "\n",
    "for i in range(1,6):\n",
    "    for j in range(i):\n",
    "        print(\"*\",end=\"\")\n",
    "    print(\"\\n\")\n"
   ]
  },
  {
   "cell_type": "code",
   "execution_count": 27,
   "id": "bf8785d7-d96e-410b-baf7-50f25e4da0ea",
   "metadata": {},
   "outputs": [
    {
     "name": "stdout",
     "output_type": "stream",
     "text": [
      "    *\n",
      "\n",
      "   **\n",
      "\n",
      "  ***\n",
      "\n",
      " ****\n",
      "\n",
      "*****\n",
      "\n"
     ]
    }
   ],
   "source": [
    "# 19-3.\n",
    "#     *\n",
    "#    **\n",
    "#   ***\n",
    "#  ****\n",
    "# *****\n",
    "\n",
    "for i in range(1,6):\n",
    "    for j in range(5-i):\n",
    "        print(\" \",end=\"\")\n",
    "    for k in range(i):\n",
    "        print(\"*\",end=\"\")\n",
    "    print(\"\\n\")"
   ]
  },
  {
   "cell_type": "code",
   "execution_count": 34,
   "id": "ed0b3e03-de45-40d4-ae6a-47bb9ecbd34e",
   "metadata": {},
   "outputs": [
    {
     "name": "stdout",
     "output_type": "stream",
     "text": [
      "    *\n",
      "\n",
      "   ***\n",
      "\n",
      "  *****\n",
      "\n",
      " *******\n",
      "\n",
      "*********\n",
      "\n"
     ]
    }
   ],
   "source": [
    "\n",
    "# 19-4.\n",
    "#     *\n",
    "#    ***\n",
    "#   *****\n",
    "#  *******\n",
    "# *********\n",
    "n=0\n",
    "for i in range(1,6):\n",
    "    for j in range(5-i):\n",
    "        print(\" \",end=\"\")\n",
    "    for k in range(i+n):\n",
    "        print(\"*\",end=\"\")\n",
    "    n+=1\n",
    "    print(\"\\n\")"
   ]
  },
  {
   "cell_type": "code",
   "execution_count": 35,
   "id": "81e6cb50-53c3-45be-9d85-4b22359b6574",
   "metadata": {},
   "outputs": [
    {
     "name": "stdout",
     "output_type": "stream",
     "text": [
      "    1\n",
      "\n",
      "   222\n",
      "\n",
      "  33333\n",
      "\n",
      " 4444444\n",
      "\n",
      "555555555\n",
      "\n"
     ]
    }
   ],
   "source": [
    "# 19-5.\n",
    "#     1\n",
    "#    222\n",
    "#   33333\n",
    "#  4444444\n",
    "# 555555555\n",
    "\n",
    "n=0\n",
    "for i in range(1,6):\n",
    "    for j in range(5-i):\n",
    "        print(\" \",end=\"\")\n",
    "    for k in range(i+n):\n",
    "        print(i,end=\"\")\n",
    "    n+=1\n",
    "    print(\"\\n\")"
   ]
  },
  {
   "cell_type": "code",
   "execution_count": 53,
   "id": "f85e1e3e-1d61-4daf-aeda-0a020a1a9c82",
   "metadata": {},
   "outputs": [
    {
     "name": "stdout",
     "output_type": "stream",
     "text": [
      "    1\n",
      "\n",
      "   212\n",
      "\n",
      "  32123\n",
      "\n",
      " 4321234\n",
      "\n",
      "543212345\n",
      "\n"
     ]
    }
   ],
   "source": [
    "#19- 6:\n",
    "\n",
    "#     1\n",
    "#    212\n",
    "#   32123\n",
    "#  4321234\n",
    "# 543212345\n",
    "\n",
    "n=0\n",
    "for i in range(1,6):\n",
    "    for j in range(5-i):\n",
    "        print(\" \",end=\"\")\n",
    "    n1=1\n",
    "    for k in range(i+n):\n",
    "        if (i-k)<1:\n",
    "            n1+=1\n",
    "            print(n1,end=\"\")\n",
    "        else:\n",
    "            print(i-k,end=\"\")\n",
    "    n+=1\n",
    "    print(\"\\n\")"
   ]
  },
  {
   "cell_type": "code",
   "execution_count": null,
   "id": "606e3f5b-ad29-4531-aed0-b941b3c9f395",
   "metadata": {},
   "outputs": [],
   "source": []
  }
 ],
 "metadata": {
  "kernelspec": {
   "display_name": "Python 3 (ipykernel)",
   "language": "python",
   "name": "python3"
  },
  "language_info": {
   "codemirror_mode": {
    "name": "ipython",
    "version": 3
   },
   "file_extension": ".py",
   "mimetype": "text/x-python",
   "name": "python",
   "nbconvert_exporter": "python",
   "pygments_lexer": "ipython3",
   "version": "3.12.4"
  }
 },
 "nbformat": 4,
 "nbformat_minor": 5
}
