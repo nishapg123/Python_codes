{
 "cells": [
  {
   "cell_type": "code",
   "execution_count": null,
   "metadata": {
    "colab": {
     "base_uri": "https://localhost:8080/"
    },
    "id": "rwXoWCvWuH46",
    "outputId": "f7fd95ce-1ea9-4ef5-fda3-9f57c538456e"
   },
   "outputs": [
    {
     "name": "stdout",
     "output_type": "stream",
     "text": [
      "Enter the hours:35\n",
      "Enter the rate per hour:2.75\n",
      "96.25\n"
     ]
    }
   ],
   "source": [
    "# Write a program to prompt the user for hours and rate per hour using input to compute gross pay.\n",
    "# Use 35 hours and a rate of 2.75 per hour to test the program (the pay should be 96.25).\n",
    "# You should use input to read a string and float() to convert the string to a number.\n",
    "\n",
    "# Solution\n",
    "\n",
    "# user input\n",
    "hrs = input('Enter the hours:')\n",
    "rate = input('Enter the rate per hour:')\n",
    "\n",
    "# type casting\n",
    "hrs = float(hrs)\n",
    "rate = float(rate)\n",
    "\n",
    "# gross pay calculation\n",
    "pay = hrs * rate\n",
    "\n",
    "print(pay)"
   ]
  },
  {
   "cell_type": "code",
   "execution_count": null,
   "metadata": {},
   "outputs": [],
   "source": []
  },
  {
   "cell_type": "code",
   "execution_count": null,
   "metadata": {
    "colab": {
     "base_uri": "https://localhost:8080/"
    },
    "id": "V4aFDsGnv9zI",
    "outputId": "18684814-daef-4deb-bee8-9ff84a9826d5"
   },
   "outputs": [
    {
     "name": "stdout",
     "output_type": "stream",
     "text": [
      "Enter a score between 0 to 1: 0.85\n",
      "B\n"
     ]
    }
   ],
   "source": [
    "# Write a program to prompt for a score between 0.0 and 1.0. If the score is out of range, prompt \"out of range\".\n",
    "# If the score is between 0.0 and 1.0, print a grade using the following table:\n",
    "    # Score Grade\n",
    "        # >= 0.9 A\n",
    "        # >= 0.8 B\n",
    "        # >= 0.7 C\n",
    "        # >= 0.6 D\n",
    "        # < 0.6 F\n",
    "# If the user enters a value out of range, print a suitable error message and exit. For the test, enter a score of 0.85.\n",
    "\n",
    "# Solution\n",
    "\n",
    "# user input\n",
    "score = input('Enter a score between 0 to 1: ')\n",
    "\n",
    "\n",
    "# Exception handling\n",
    "\n",
    "try:\n",
    "    # typecast\n",
    "    score = float(score)\n",
    "\n",
    "    # conditional code\n",
    "    if score >= 0 and score <=1:\n",
    "        if score >= 0.9:\n",
    "            print('A')\n",
    "        elif score >= 0.8:\n",
    "            print('B')\n",
    "        elif score >= 0.7:\n",
    "            print('C')\n",
    "        elif score >= 0.6:\n",
    "            print('D')\n",
    "        else:\n",
    "            print('F')\n",
    "    else:\n",
    "        print('The score is out of range')\n",
    "\n",
    "except:\n",
    "    print('The score is not a number. Enter a valid score in numbers.')\n"
   ]
  },
  {
   "cell_type": "code",
   "execution_count": null,
   "metadata": {
    "id": "jm5zmGmDyQFq"
   },
   "outputs": [],
   "source": [
    "# Write a program to prompt the user for hours and rate per hour using input to compute gross pay.\n",
    "# Award time-and-a-half for the hourly rate for all hours worked above 40 hours.\n",
    "# Put the logic to do the computation of time-and-a-half in a function called computepay() and use the function to do the computation.\n",
    "# The function should return a value. Use 45 hours and a rate of 10.50 per hour to test the program (the pay should be 498.75).\n",
    "# You should use input to read a string and float() to convert the string to a number.\n",
    "\n",
    "# Solution\n",
    "\n",
    "# Creating a function\n",
    "def computepay(h, r):\n",
    "\n",
    "    # doc string\n",
    "    '''This function will take hours and rate from the user and computes the pay.\\\n",
    "    Any hours worked beyond 40 will be paid 1.5 times the rate.'''\n",
    "\n",
    "    try:\n",
    "        # type casting\n",
    "        h = float(h)\n",
    "        r = float(r)\n",
    "\n",
    "        # program\n",
    "        if h <= 40:\n",
    "            pay = h * r\n",
    "        else:\n",
    "            pay = (40*r) + (h-40)*(r*1.5)\n",
    "\n",
    "        # output\n",
    "        print(pay)\n",
    "\n",
    "    except:\n",
    "        print('Enter a valid input for hours and rate')"
   ]
  },
  {
   "cell_type": "code",
   "execution_count": null,
   "metadata": {
    "colab": {
     "base_uri": "https://localhost:8080/"
    },
    "id": "pslJleP80dUi",
    "outputId": "85d40a10-05fc-48c9-d306-2a57840a5b3b"
   },
   "outputs": [
    {
     "data": {
      "text/plain": [
       "498.75"
      ]
     },
     "execution_count": 40,
     "metadata": {},
     "output_type": "execute_result"
    }
   ],
   "source": [
    "# Function call code execution from previous cell\n",
    "computepay(45, 10.5)"
   ]
  },
  {
   "cell_type": "code",
   "execution_count": null,
   "metadata": {
    "colab": {
     "base_uri": "https://localhost:8080/"
    },
    "id": "w3Y5jzKk5YHD",
    "outputId": "860484e0-7a1b-47d8-92e6-554d0d120cde"
   },
   "outputs": [
    {
     "name": "stdout",
     "output_type": "stream",
     "text": [
      "Enter any number or \"done\" to exit: 7\n",
      "Enter any number or \"done\" to exit: 2\n",
      "Enter any number or \"done\" to exit: bob\n",
      "The input bob is not valid\n",
      "Enter any number or \"done\" to exit: 10\n",
      "Enter any number or \"done\" to exit: 4\n",
      "Enter any number or \"done\" to exit: done\n",
      "Largest number entered is: 10.0\n",
      "Smallest number entered is: 2.0\n"
     ]
    }
   ],
   "source": [
    "# Write a program that repeatedly prompts a user for integer numbers until the user enters 'done'.\n",
    "# Once 'done' is entered, print out the largest and smallest of the numbers.\n",
    "# If the user enters anything other than a valid number catch it with a try/except and put out an appropriate message and ignore the number.\n",
    "# Enter 7, 2, bob, 10, and 4 and match the output below.\n",
    "\n",
    "# Solution\n",
    "\n",
    "# variable for storing the numbers\n",
    "largest = None\n",
    "smallest = None\n",
    "\n",
    "# loop\n",
    "\n",
    "while True:\n",
    "    # user input\n",
    "    num = input('Enter any number or \"done\" to exit: ')\n",
    "    if num == 'done' or num == 'Done':\n",
    "        break\n",
    "    else:\n",
    "        # exception handling\n",
    "        try:\n",
    "            # typecasting\n",
    "            num = float(num)\n",
    "            # conditional code\n",
    "            if largest is smallest is None:\n",
    "                largest, smallest = num, num\n",
    "            else:\n",
    "                if num > largest:\n",
    "                    largest = num\n",
    "                if num < smallest:\n",
    "                    smallest = num\n",
    "        except:\n",
    "            # exception to handle\n",
    "            print(f'The input {num} is not valid')\n",
    "\n",
    "print('Largest number entered is:',largest)\n",
    "print('Smallest number entered is:',smallest)"
   ]
  },
  {
   "cell_type": "code",
   "execution_count": null,
   "metadata": {
    "colab": {
     "base_uri": "https://localhost:8080/"
    },
    "id": "VfbB_0UY8mT9",
    "outputId": "51331df4-8980-41f8-dd57-b76f7c00879a"
   },
   "outputs": [
    {
     "name": "stdout",
     "output_type": "stream",
     "text": [
      "0.8475\n"
     ]
    }
   ],
   "source": [
    "# Write code using find() and string slicing to extract the number at the end of the line below.\n",
    "    # \"X-DSPAM-Confidence:    0.8475\"\n",
    "# Convert the extracted value to a floating point number and print it out.\n",
    "\n",
    "# Solution\n",
    "text = \"X-DSPAM-Confidence: 0.8475\"\n",
    "pos = text.find(':')\n",
    "value = float(text[pos+1: ])\n",
    "print(value)"
   ]
  },
  {
   "cell_type": "code",
   "execution_count": null,
   "metadata": {
    "colab": {
     "base_uri": "https://localhost:8080/"
    },
    "id": "uS-iknI8_8IC",
    "outputId": "e761263a-e776-43d3-d75e-8afbd232bfb4"
   },
   "outputs": [
    {
     "name": "stdout",
     "output_type": "stream",
     "text": [
      "Enter the file name: words.txt\n",
      "WRITING PROGRAMS OR PROGRAMMING IS A VERY CREATIVE\n",
      "AND REWARDING ACTIVITY  YOU CAN WRITE PROGRAMS FOR\n",
      "MANY REASONS RANGING FROM MAKING YOUR LIVING TO SOLVING\n",
      "A DIFFICULT DATA ANALYSIS PROBLEM TO HAVING FUN TO HELPING\n",
      "SOMEONE ELSE SOLVE A PROBLEM  THIS BOOK ASSUMES THAT\n",
      "{\\EM EVERYONE} NEEDS TO KNOW HOW TO PROGRAM AND THAT ONCE\n",
      "YOU KNOW HOW TO PROGRAM, YOU WILL FIGURE OUT WHAT YOU WANT\n",
      "TO DO WITH YOUR NEWFOUND SKILLS\n",
      "\n",
      "WE ARE SURROUNDED IN OUR DAILY LIVES WITH COMPUTERS RANGING\n",
      "FROM LAPTOPS TO CELL PHONES  WE CAN THINK OF THESE COMPUTERS\n",
      "AS OUR PERSONAL ASSISTANTS WHO CAN TAKE CARE OF MANY THINGS\n",
      "ON OUR BEHALF  THE HARDWARE IN OUR CURRENT-DAY COMPUTERS\n",
      "IS ESSENTIALLY BUILT TO CONTINUOUSLY ASK US THE QUESTION\n",
      "WHAT WOULD YOU LIKE ME TO DO NEXT\n",
      "\n",
      "OUR COMPUTERS ARE FAST AND HAVE VASTS AMOUNTS OF MEMORY AND\n",
      "COULD BE VERY HELPFUL TO US IF WE ONLY KNEW THE LANGUAGE TO\n",
      "SPEAK TO EXPLAIN TO THE COMPUTER WHAT WE WOULD LIKE IT TO\n",
      "DO NEXT IF WE KNEW THIS LANGUAGE WE COULD TELL THE\n",
      "COMPUTER TO DO TASKS ON OUR BEHALF THAT WERE REPTITIVE\n",
      "INTERESTINGLY, THE KINDS OF THINGS COMPUTERS CAN DO BEST\n",
      "ARE OFTEN THE KINDS OF THINGS THAT WE HUMANS FIND BORING\n",
      "AND MIND-NUMBING\n"
     ]
    }
   ],
   "source": [
    "# Write a program that prompts for a file name, then opens that file and reads through the file.\n",
    "# print the contents of the file in upper case. Use the file words.txt to produce the output in upper case.\n",
    "\n",
    "# You can download the sample data at http://www.py4e.com/code3/words.txt\n",
    "\n",
    "# user input for the file name\n",
    "fname = input('Enter the file name: ')\n",
    "floc = '/content/drive/MyDrive/Datasets/Input/'+fname\n",
    "\n",
    "# to create file connection\n",
    "fconnect = open(floc)\n",
    "\n",
    "# program to read and covert all line to upper case\n",
    "for line in fconnect:\n",
    "    line = line.rstrip()\n",
    "    print(line.upper())"
   ]
  },
  {
   "cell_type": "code",
   "execution_count": null,
   "metadata": {
    "colab": {
     "base_uri": "https://localhost:8080/"
    },
    "id": "0AE1wIXQBll3",
    "outputId": "de153a61-1cf9-4799-8bf6-e6f1715c6527"
   },
   "outputs": [
    {
     "name": "stdout",
     "output_type": "stream",
     "text": [
      "Enter the file name: mbox-short.txt\n",
      "Average Spam Confidence: 0.7507185185185187\n"
     ]
    }
   ],
   "source": [
    "# Write a program that prompts for a file name, then opens that file and reads through the file, looking for lines of the form:\n",
    "    # X-DSPAM-Confidence:    0.8475\n",
    "# Count these lines and extract the floating point values from each of the lines and compute the average of those values.\n",
    "# Do not use the sum() function or a variable named sum in your solution.\n",
    "\n",
    "# You can download the sample data at http://www.py4e.com/code3/mbox-short.txt\n",
    "\n",
    "# user input for the file name\n",
    "fname = input('Enter the file name: ')\n",
    "floc = '/content/drive/MyDrive/Datasets/Input/'+fname\n",
    "\n",
    "# to create file connection\n",
    "fconnect = open(floc)\n",
    "\n",
    "# program for finding the average spam value\n",
    "cnt = 0\n",
    "value = 0\n",
    "for line in fconnect:\n",
    "    line = line.rstrip()\n",
    "    if line.startswith('X-DSPAM-Confidence:'):\n",
    "        cnt += 1\n",
    "        pos = line.find(':')\n",
    "        value += float(line[pos+1: ])\n",
    "print('Average Spam Confidence:', value/cnt)"
   ]
  },
  {
   "cell_type": "code",
   "execution_count": null,
   "metadata": {
    "id": "IddIFkyrDv-c"
   },
   "outputs": [],
   "source": [
    "# Open the file romeo.txt and read it line by line. For each line, split the line into a list of words using the split() method.\n",
    "# The program should build a list of words.\n",
    "# For each word on each line check to see if the word is already in the list and if not append it to the list.\n",
    "# When the program completes, sort and print the resulting words in python sort() order as shown in the desired output.\n",
    "\n",
    "# You can download the sample data at http://www.py4e.com/code3/romeo.txt"
   ]
  },
  {
   "cell_type": "code",
   "execution_count": null,
   "metadata": {
    "id": "VLl-sl_xDxWp"
   },
   "outputs": [],
   "source": [
    "# Open the file mbox-short.txt and read it line by line. When you find a line that starts with 'From ' like the following line:\n",
    "    # From stephen.marquard@uct.ac.za Sat Jan  5 09:14:16 2008\n",
    "# You will parse the From line using split() and print out the second word in the line (i.e. the entire address of the person who sent the message).\n",
    "# Then print out a count at the end.\n",
    "\n",
    "# You can download the sample data at http://www.py4e.com/code3/mbox-short.txt"
   ]
  },
  {
   "cell_type": "code",
   "execution_count": 8,
   "metadata": {},
   "outputs": [
    {
     "name": "stdin",
     "output_type": "stream",
     "text": [
      " hello world lol\n"
     ]
    },
    {
     "name": "stdout",
     "output_type": "stream",
     "text": [
      "Hello World Lol \n"
     ]
    }
   ],
   "source": [
    "def solve(s):\n",
    "    res = ''\n",
    "    for word in s.split('):\n",
    "        if word.isalpha():\n",
    "            res +=''.join(word.capitalize())+' '\n",
    "        else:\n",
    "            res +=''.join(word)+' '\n",
    "    return res\n",
    "\n",
    "if __name__ == '__main__':\n",
    "    s = input()\n",
    "\n",
    "    result = solve(s)\n",
    "    print(result)\n"
   ]
  },
  {
   "cell_type": "code",
   "execution_count": 11,
   "metadata": {},
   "outputs": [
    {
     "name": "stdin",
     "output_type": "stream",
     "text": [
      " ABACAAABA\n",
      " 3\n"
     ]
    },
    {
     "name": "stdout",
     "output_type": "stream",
     "text": [
      "{'A', 'B'}\n",
      "{'A', 'C'}\n",
      "{'A', 'B'}\n"
     ]
    }
   ],
   "source": [
    "def merge_the_tools(string, k):\n",
    "    # your code goes here\n",
    "    u = ''\n",
    "    for i in range(len(string)):\n",
    "        u += string[i]\n",
    "        if (i+1)%k == 0:\n",
    "            setu = set(u)\n",
    "            stru = ''.join(str(setu))\n",
    "            print(stru)\n",
    "            u = ''\n",
    "\n",
    "if __name__ == '__main__':\n",
    "    string, k = input(), int(input())\n",
    "    merge_the_tools(string, k)"
   ]
  },
  {
   "cell_type": "code",
   "execution_count": null,
   "metadata": {},
   "outputs": [],
   "source": []
  }
 ],
 "metadata": {
  "colab": {
   "provenance": []
  },
  "kernelspec": {
   "display_name": "Python 3 (ipykernel)",
   "language": "python",
   "name": "python3"
  },
  "language_info": {
   "codemirror_mode": {
    "name": "ipython",
    "version": 3
   },
   "file_extension": ".py",
   "mimetype": "text/x-python",
   "name": "python",
   "nbconvert_exporter": "python",
   "pygments_lexer": "ipython3",
   "version": "3.12.4"
  }
 },
 "nbformat": 4,
 "nbformat_minor": 4
}
