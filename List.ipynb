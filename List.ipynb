{
 "cells": [
  {
   "cell_type": "markdown",
   "id": "d6f391ec",
   "metadata": {},
   "source": [
    "### Lists\n",
    "\n",
    "1. Write a program that accepts a list from user and print the alternate element of list. \n",
    "\n",
    "2. Write a program that accepts a list from user. Your program should reverse the content of list and display it. Do not use reverse() method. \n",
    "\n",
    "3. Find and display the largest number of a list without using built-in function max(). Your program should ask the user to input values in list from keyboard. \n",
    "\n",
    "4. Write a program that rotates the element of a list so that the element at the first index moves to the second index, the element in the second index moves to the third index, etc., and the element in the last index moves to the first index. \n",
    "\n",
    "5. Write a program that input a string and ask user to delete a given word from a string. \n",
    "\n",
    "6. Write a program that reads a string from the user containing a date in the form mm/dd/yyyy. It should print the date in the form March 12, 2021. \n",
    "\n",
    "7. Write a program with a function that accepts a string from keyboard and create a new string after converting character of each word capitalized. For instance, if the sentence is \"stop and smell the roses.\" the output should be \"Stop And Smell The Roses\"\n",
    "\n",
    "8. Find the sum of each row of matrix of size m x n. For example for the following matrix output will be like this :\n",
    "\n",
    "matrix=[\n",
    "[7,8,17],\n",
    "[4,20,7],\n",
    "[30,28,5],\n",
    "]\n",
    "\n",
    "Sum of row 1 = 32\n",
    "Sum of row 2 = 31\n",
    "Sum of row 3 = 63\n",
    "\n",
    "\n",
    "9. Write a program to add two matrices of size n x m.\n",
    "\n",
    "10. Write a program to multiply two matrices"
   ]
  },
  {
   "cell_type": "code",
   "execution_count": 11,
   "id": "a4ab7211",
   "metadata": {},
   "outputs": [
    {
     "name": "stdin",
     "output_type": "stream",
     "text": [
      "Enter elements of list separated by space: 1 2 3 4 5\n"
     ]
    },
    {
     "name": "stdout",
     "output_type": "stream",
     "text": [
      "the alternate list elements are ['1', '3', '5']\n"
     ]
    }
   ],
   "source": [
    "#1. Write a program that accepts a list from user and print the alternate element of list. \n",
    "lista = input(\"Enter elements of list separated by space:\")\n",
    "mylist = lista.split()\n",
    "alternate = mylist[0:len(lista):2]\n",
    "print(f\"the alternate list elements are {alternate}\") \n"
   ]
  },
  {
   "cell_type": "code",
   "execution_count": 16,
   "id": "7c226e7d",
   "metadata": {},
   "outputs": [
    {
     "name": "stdin",
     "output_type": "stream",
     "text": [
      "Enter elements of list separated by space: 1 2 3 4 5\n"
     ]
    },
    {
     "name": "stdout",
     "output_type": "stream",
     "text": [
      "the reverse list elements are ['5', '4', '3', '2', '1']\n"
     ]
    }
   ],
   "source": [
    "#2. Write a program that accepts a list from user. Your program should reverse the content of list and display it. Do not use reverse() method. \n",
    "\n",
    "lista = input(\"Enter elements of list separated by space:\")\n",
    "mylist = lista.split()\n",
    "reverse = mylist[::-1]\n",
    "print(f\"the reverse list elements are {reverse}\") "
   ]
  },
  {
   "cell_type": "code",
   "execution_count": 21,
   "id": "b34ca5da-de7c-4caf-8bdd-a3afb6f90191",
   "metadata": {},
   "outputs": [
    {
     "name": "stdin",
     "output_type": "stream",
     "text": [
      "Enter elements of list separated by space: 34 56 23 67 34\n"
     ]
    },
    {
     "name": "stdout",
     "output_type": "stream",
     "text": [
      "the largest list element is 67\n"
     ]
    }
   ],
   "source": [
    "#3. Find and display the largest number of a list without using built-in function max(). Your program should ask the user to input values in list from keyboard.\n",
    "\n",
    "elements = input(\"Enter elements of list separated by space:\")\n",
    "mylist=elements.split()\n",
    "large = mylist[0]\n",
    "for ele in mylist:\n",
    "    if ele > large:\n",
    "        large = ele\n",
    "print(f\"the largest list element is {large}\") \n"
   ]
  },
  {
   "cell_type": "code",
   "execution_count": 3,
   "id": "1ba2a128-f783-4e2e-8b57-f2ebd0ae5242",
   "metadata": {},
   "outputs": [
    {
     "name": "stdin",
     "output_type": "stream",
     "text": [
      "Enter string separated by space: my python class\n",
      "Enter a word to be deleted: python\n"
     ]
    },
    {
     "name": "stdout",
     "output_type": "stream",
     "text": [
      "my  class\n"
     ]
    }
   ],
   "source": [
    "#5. Write a program that input a string and ask user to delete a given word from a string. \n",
    "\n",
    "string1 = input(\"Enter string separated by space:\")\n",
    "word = input(\"Enter a word to be deleted:\")\n",
    "string2 = string1.replace(word,'')\n",
    "print(string2)"
   ]
  },
  {
   "cell_type": "code",
   "execution_count": 13,
   "id": "4ff9397e-0e2b-4d80-8824-9f62bbc93e14",
   "metadata": {},
   "outputs": [
    {
     "name": "stdin",
     "output_type": "stream",
     "text": [
      "Enter date separated by /: 03/12/2021\n"
     ]
    },
    {
     "name": "stdout",
     "output_type": "stream",
     "text": [
      "Date : March 12, 2021\n"
     ]
    }
   ],
   "source": [
    "#6. Write a program that reads a string from the user containing a date in the form mm/dd/yyyy. It should print the date in the form March 12, 2021.\n",
    "\n",
    "datestr = input(\"Enter date separated by /:\")\n",
    "mylist=datestr.split('/')\n",
    "mon = ['January','February','March','April','May','June','July','August','September','October','November','December']\n",
    "ind = int(mylist[0])\n",
    "print(f\"Date : {mon[ind-1]} {mylist[1]}, {mylist[2]}\")\n"
   ]
  },
  {
   "cell_type": "code",
   "execution_count": 15,
   "id": "7041adfc-c6ee-475c-b45f-d11a127734a2",
   "metadata": {},
   "outputs": [
    {
     "name": "stdin",
     "output_type": "stream",
     "text": [
      "Enter date separated by space stop and smell the roses.\n"
     ]
    },
    {
     "name": "stdout",
     "output_type": "stream",
     "text": [
      "Stop And Smell The Roses.\n"
     ]
    }
   ],
   "source": [
    "#7. Write a program with a function that accepts a string from keyboard and create a new string after converting character of each word capitalized. For instance, if the sentence is \"stop and smell the roses.\" the output should be \"Stop And Smell The Roses\"\n",
    "\n",
    "strng1 = input(\"Enter date separated by space\")\n",
    "strng2 = strng1.title()\n",
    "print(strng2)"
   ]
  },
  {
   "cell_type": "code",
   "execution_count": null,
   "id": "ad8418be-6509-4cb5-a137-c725eaeb4254",
   "metadata": {},
   "outputs": [],
   "source": [
    "# 8. Find the sum of each row of matrix of size m x n. For example for the following matrix output will be like this :\n",
    "# matrix=[\n",
    "# [7,8,17],\n",
    "# [4,20,7],\n",
    "# [30,28,5],\n",
    "# ]\n",
    "\n",
    "# Sum of row 1 = 32\n",
    "# Sum of row 2 = 31\n",
    "# Sum of row 3 = 63\n",
    "\n",
    "matrow = int(input(\"Enter the no. of rows:\"))\n",
    "matcol = int(input(\"Enter the no. of columns:\"))\n",
    "print(\"Enter the matrix\")\n",
    "matrix=[]\n",
    "for i in range(1,matrow+1):\n",
    "    a = []\n",
    "    \n",
    "    for j in range(1,matcol+1):\n",
    "        a.append(int(input()))\n",
    "    matrix.append(a)\n",
    "print(\"Matrix=\")\n",
    "for row in matrix:\n",
    "    print(row)\n",
    "    \n",
    "for i in range(0,matrow):\n",
    "    sumr = 0\n",
    "    for j in range(0,matcol):\n",
    "        sumr+=matrix[i][j]\n",
    "    print(f\"Sum of row {i+1} = {sumr}\")"
   ]
  },
  {
   "cell_type": "code",
   "execution_count": 5,
   "id": "87ce48ce-cf36-4cc1-8ceb-b21295054ce6",
   "metadata": {},
   "outputs": [
    {
     "name": "stdin",
     "output_type": "stream",
     "text": [
      "Enter the no. of rows: 2\n",
      "Enter the no. of columns: 2\n"
     ]
    },
    {
     "name": "stdout",
     "output_type": "stream",
     "text": [
      "Enter the matrix 1\n"
     ]
    },
    {
     "name": "stdin",
     "output_type": "stream",
     "text": [
      " 2\n",
      " 2\n",
      " 2\n",
      " 3\n"
     ]
    },
    {
     "name": "stdout",
     "output_type": "stream",
     "text": [
      "Matrix1=\n",
      "[2, 2]\n",
      "[2, 3]\n",
      "Enter the matrix 2\n"
     ]
    },
    {
     "name": "stdin",
     "output_type": "stream",
     "text": [
      " 3\n",
      " 4\n",
      " 5\n",
      " 3\n"
     ]
    },
    {
     "name": "stdout",
     "output_type": "stream",
     "text": [
      "Matrix2=\n",
      "[3, 4]\n",
      "[5, 3]\n",
      "Matrix3=\n",
      "[5, 6]\n",
      "[7, 6]\n"
     ]
    }
   ],
   "source": [
    "## 9. Write a program to add two matrices of size n x m.\n",
    "\n",
    "row = int(input(\"Enter the no. of rows:\"))\n",
    "col = int(input(\"Enter the no. of columns:\"))\n",
    "print(\"Enter the matrix 1\")\n",
    "matrix1=[]\n",
    "for i in range(0,row):\n",
    "    a = []\n",
    "  \n",
    "    for j in range(0,col):\n",
    "        a.append(int(input()))\n",
    "    matrix1.append(a)\n",
    "print(\"Matrix1=\")\n",
    "for var in matrix1:\n",
    "    print(var)\n",
    "\n",
    "print(\"Enter the matrix 2\")\n",
    "matrix2=[]\n",
    "for i in range(0,row):\n",
    "    b = []\n",
    "    for j in range(0,col):\n",
    "        b.append(int(input()))\n",
    "    matrix2.append(b)\n",
    "print(\"Matrix2=\")\n",
    "for var in matrix2:\n",
    "    print(var)\n",
    "matrix3=[]\n",
    "for i in range(0,row):\n",
    "    c=[]\n",
    "    for j in range(0,col):\n",
    "        res=matrix1[i][j]+matrix2[i][j]\n",
    "        c.append(res)\n",
    "    matrix3.append(c)\n",
    "print(\"Matrix3=\")\n",
    "for val in matrix3:\n",
    "    print(val)"
   ]
  },
  {
   "cell_type": "code",
   "execution_count": 10,
   "id": "f58326d4-f9d2-4da3-88e9-35c45383735c",
   "metadata": {},
   "outputs": [
    {
     "name": "stdout",
     "output_type": "stream",
     "text": [
      "[13, 20, 30]\n",
      "[10, 16, 24]\n"
     ]
    }
   ],
   "source": [
    "# 10. Write a program to multiply two matrices\n",
    "\n",
    "matrix1 = [[2,3,4],[2,2,1]]\n",
    "\n",
    "matrix2 = [[2,4,6],[3,4,6]]   \n",
    "\n",
    "result = [[0,0,0],[0,0,0]]\n",
    "\n",
    "for i in range(len(matrix1)):\n",
    "    for j in range(len(matrix2[0])):\n",
    "        for k in range(len(matrix2)):\n",
    "            result[i][j] += matrix1[i][k] * matrix2[k][j]\n",
    "for row in result:\n",
    "    print(row)"
   ]
  },
  {
   "cell_type": "code",
   "execution_count": null,
   "id": "161afb70-c90a-469e-8d81-7e9438274aa1",
   "metadata": {},
   "outputs": [],
   "source": []
  },
  {
   "cell_type": "code",
   "execution_count": null,
   "id": "c4de3db1-b37d-4fab-ab82-d82e64f362da",
   "metadata": {},
   "outputs": [],
   "source": []
  }
 ],
 "metadata": {
  "hide_input": false,
  "kernelspec": {
   "display_name": "Python 3 (ipykernel)",
   "language": "python",
   "name": "python3"
  },
  "language_info": {
   "codemirror_mode": {
    "name": "ipython",
    "version": 3
   },
   "file_extension": ".py",
   "mimetype": "text/x-python",
   "name": "python",
   "nbconvert_exporter": "python",
   "pygments_lexer": "ipython3",
   "version": "3.12.4"
  }
 },
 "nbformat": 4,
 "nbformat_minor": 5
}
