{
 "cells": [
  {
   "cell_type": "markdown",
   "id": "bd7caacd",
   "metadata": {},
   "source": [
    "### Conditional Structures\n",
    "\n",
    "1. Write a program that prompts the user to input a number and display if the number is even or odd. \n",
    "\n",
    "2. Write a program that prompts the user to input two integers and outputs the largest. \n",
    "\n",
    "3. Write a program that prompts the user to input three integers and outputs the largest. \n",
    "\n",
    "4. Write a program that prompts the user to input a year and determine whether the year is a leap year or not.\n",
    "Leap Years are any year that can be evenly divided by 4. A year that is evenly divisible by 100 is a leap year only if it is also evenly divisible by 400. Example :\n",
    "\n",
    "1992\tLeap Year\n",
    "2000\tLeap Year\n",
    "1900\tNOT a Leap Year\n",
    "1995\tNOT a Leap Year  Solution\n",
    "5. Write a program that prompts the user to input number of calls and calculate the monthly telephone bills as per the following rule:\n",
    "Minimum Rs. 200 for up to 100 calls.\n",
    "Plus Rs. 0.60 per call for next 50 calls.\n",
    "Plus Rs. 0.50 per call for next 50 calls.\n",
    "Plus Rs. 0.40 per call for any call beyond 200 calls. Solution\n",
    "\n",
    "6. The roots of the quadratic equation ax2 + bx + c = 0, a ≠ 0 are given by the following formula: \n",
    "\n",
    "In this formula, the term b2 - 4ac is called the discriminant. If b2 - 4ac = 0, then the equation has two equal roots.\n",
    "If b2 - 4ac > 0, the equation has two real roots. If b2 - 4ac < 0, the equation has two complex roots.\n",
    "\n",
    "Write a program that prompts the user to input the value of a (the coefficient of x2), b (the coefficient of x), and c (the constant term) and outputs the roots of the quadratic equation. Solution\n",
    "\n",
    "7. The marks obtained by a student in 3 different subjects are input by the user. Your program should calculate the average of subjects and display the grade. The student gets a grade as per the following rules:\n",
    "\n",
    "Average\tGrade\n",
    "90-100\tA\n",
    "80-89\tB\n",
    "70-79\tC\n",
    "60-69\tD\n",
    "0-59\tF Solution\n",
    "8. Write a program that prompts the user to input a number. Program should display the corresponding days to the number. For example if user type 1 the output should be sunday. If user type 7 the output should be saturday. \n",
    "\n",
    "9. Write a program that prompts the user to input a character and determine the character is vowel or consonant. "
   ]
  },
  {
   "cell_type": "code",
   "execution_count": 4,
   "id": "214f2654",
   "metadata": {},
   "outputs": [
    {
     "name": "stdin",
     "output_type": "stream",
     "text": [
      "Enter a 5\n"
     ]
    },
    {
     "name": "stdout",
     "output_type": "stream",
     "text": [
      "The number is odd\n"
     ]
    }
   ],
   "source": [
    "#1.Write a program that prompts the user to input a number and display if the number is even or odd.\n",
    "a = int(input(\"Enter a\"))\n",
    "if a%2 == 0:\n",
    "    print(\"The number is even\")\n",
    "else:\n",
    "    print(\"The number is odd\")\n"
   ]
  },
  {
   "cell_type": "code",
   "execution_count": 6,
   "id": "90f0ef88-970c-442e-8aa0-e0e808a3da27",
   "metadata": {},
   "outputs": [
    {
     "name": "stdin",
     "output_type": "stream",
     "text": [
      "Enter first number 56\n",
      "Enter second number 23\n"
     ]
    },
    {
     "name": "stdout",
     "output_type": "stream",
     "text": [
      "56 is the largest\n"
     ]
    }
   ],
   "source": [
    "#2. Write a program that prompts the user to input two integers and outputs the largest.\n",
    "a = int(input(\"Enter first number\"))\n",
    "b = int(input(\"Enter second number\"))\n",
    "if a>b:\n",
    "    print(f\"{a} is the largest\")\n",
    "else:\n",
    "    print(f\"{b} is the largest\")"
   ]
  },
  {
   "cell_type": "code",
   "execution_count": 10,
   "id": "cc215206-078c-4817-a235-c084d815bc35",
   "metadata": {},
   "outputs": [
    {
     "name": "stdin",
     "output_type": "stream",
     "text": [
      "Enter first number 45\n",
      "Enter second number 67\n",
      "Enter third number 23\n"
     ]
    },
    {
     "name": "stdout",
     "output_type": "stream",
     "text": [
      "67 is the largest\n"
     ]
    }
   ],
   "source": [
    "#3. Write a program that prompts the user to input three integers and outputs the largest.\n",
    "a = int(input(\"Enter first number\"))\n",
    "b = int(input(\"Enter second number\"))\n",
    "c = int(input(\"Enter third number\"))\n",
    "if a>b:\n",
    "    if a>c:\n",
    "        print(f\"{a} is the largest\")\n",
    "    else:\n",
    "        print(f\"{c} is the largest\")\n",
    " \n",
    "elif b>c:\n",
    "    print(f\"{b} is the largest\")\n",
    "else:\n",
    "    print(f\"{c} is the largest\")\n",
    "    "
   ]
  },
  {
   "cell_type": "code",
   "execution_count": 33,
   "id": "623bca54-39af-4667-af0d-98f7b09ebbe5",
   "metadata": {},
   "outputs": [
    {
     "name": "stdin",
     "output_type": "stream",
     "text": [
      "Enter the year: 1995\n"
     ]
    },
    {
     "name": "stdout",
     "output_type": "stream",
     "text": [
      "The year is not a leap year\n"
     ]
    }
   ],
   "source": [
    "#4.Write a program that prompts the user to input a year and determine whether the year is a leap year or not.\n",
    "year = int(input(\"Enter the year:\"))\n",
    "if year%4 == 0 and year%100 != 0:\n",
    "    print(\"The year is a leap year\")\n",
    "elif (year % 400 == 0):\n",
    "      print(\"The year is a leap year\")\n",
    "else:\n",
    "      print(\"The year is not a leap year\")\n",
    "    \n"
   ]
  },
  {
   "cell_type": "code",
   "execution_count": null,
   "id": "a4ac231d-f61d-4e03-83cb-8d71c69e973a",
   "metadata": {},
   "outputs": [],
   "source": [
    "#5.Write a program that prompts the user to input number of calls and calculate the monthly telephone bills as per the following rule:"
   ]
  },
  {
   "cell_type": "code",
   "execution_count": 2,
   "id": "5a342785-5d4b-4541-9b66-3bca10817507",
   "metadata": {},
   "outputs": [
    {
     "name": "stdin",
     "output_type": "stream",
     "text": [
      "Enter a 12\n",
      "Enter b 3\n",
      "Enter c 4\n"
     ]
    },
    {
     "name": "stdout",
     "output_type": "stream",
     "text": [
      "The roots are complex\n"
     ]
    }
   ],
   "source": [
    "#6. The roots of the quadratic equation ax2 + bx + c = 0, a ≠ 0 are given by the following formula: \n",
    "#In this formula, the term b2 - 4ac is called the discriminant. If b2 - 4ac = 0, then the equation has two equal roots.\n",
    "#If b2 - 4ac > 0, the equation has two real roots. If b2 - 4ac < 0, the equation has two complex roots.\n",
    "#Write a program that prompts the user to input the value of a (the coefficient of x2), b (the coefficient of x), and c (the constant term) and outputs the roots of the quadratic equation.\n",
    "a = float(input(\"Enter a\"))\n",
    "b = float(input(\"Enter b\"))\n",
    "c = float(input(\"Enter c\"))\n",
    "dis = (b*b)-(4*a*c)\n",
    "if dis==0:\n",
    "    print(\"The two roots are equal\")\n",
    "elif dis>0:\n",
    "    print(\"The two roots are real\")\n",
    "else:\n",
    "    print(\"The roots are complex\")"
   ]
  },
  {
   "cell_type": "code",
   "execution_count": null,
   "id": "9944c98b-f1b1-4833-8ce9-e27f2bba80e9",
   "metadata": {},
   "outputs": [],
   "source": []
  },
  {
   "cell_type": "code",
   "execution_count": 3,
   "id": "8cd9e4ec-ba4c-4624-bf9a-bbf552b0fb24",
   "metadata": {},
   "outputs": [
    {
     "name": "stdin",
     "output_type": "stream",
     "text": [
      "Enter mark sub1 98\n",
      "Enter mark sub2 99\n",
      "Enter mark sub3 89\n"
     ]
    },
    {
     "name": "stdout",
     "output_type": "stream",
     "text": [
      "Grade A\n"
     ]
    }
   ],
   "source": [
    "#7. The marks obtained by a student in 3 different subjects are input by the user. Your program should calculate the average of subjects and display the grade. The student gets a grade as per the following rules:\n",
    "#Average Grade 90-100 A 80-89 B 70-79 C 60-69 D 0-59 F \n",
    "mark1 = float(input(\"Enter mark sub1\"))\n",
    "mark2 = float(input(\"Enter mark sub2\"))\n",
    "mark3 = float(input(\"Enter mark sub3\"))\n",
    "avemarks = (mark1+mark2+mark3)/3\n",
    "if (avemarks >=90 and avemarks <=100):\n",
    "    print(\"Grade A\")\n",
    "elif (avemarks >=80 and avemarks <=89):\n",
    "    print(\"Grade B\")\n",
    "elif (avemarks >=70 and avemarks <=79):\n",
    "    print(\"Grade C\")\n",
    "elif (avemarks >=60 and avemarks <=69):\n",
    "    print(\"Grade D\")\n",
    "else:\n",
    "    print(\"Grade F\")\n",
    "    "
   ]
  },
  {
   "cell_type": "code",
   "execution_count": 9,
   "id": "ccade49e-fad3-41dd-b040-8582e89254d1",
   "metadata": {},
   "outputs": [
    {
     "name": "stdin",
     "output_type": "stream",
     "text": [
      "Enter a number between 1 to 7: 9\n"
     ]
    },
    {
     "name": "stdout",
     "output_type": "stream",
     "text": [
      "Kindly enter a number between 1 and 7\n"
     ]
    }
   ],
   "source": [
    "#8. Write a program that prompts the user to input a number. \n",
    "#Program should display the corresponding days to the number. For example if user type 1 the output should be sunday. \n",
    "#If user type 7 the output should be saturday.\n",
    "\n",
    "number = int(input(\"Enter a number between 1 to 7:\"))\n",
    "if number == 1:\n",
    "    print(\"Sunday\")\n",
    "elif number == 2:\n",
    "    print(\"Monday\")\n",
    "elif number == 3:\n",
    "    print(\"Tuesday\")\n",
    "elif number == 4:\n",
    "    print(\"Wednesday\")\n",
    "elif number == 5:\n",
    "    print(\"Thursday\")\n",
    "elif number == 6:\n",
    "    print(\"Friday\")\n",
    "elif number == 7:\n",
    "    print(\"Saturday\")\n",
    "else:\n",
    "    print(\"Kindly enter a number between 1 and 7\")\n",
    "\n",
    "\n",
    "\n"
   ]
  },
  {
   "cell_type": "code",
   "execution_count": 18,
   "id": "e83c782e-1aaf-4533-b4c3-0a259b58a6af",
   "metadata": {},
   "outputs": [
    {
     "name": "stdin",
     "output_type": "stream",
     "text": [
      "Enter a character: y\n"
     ]
    },
    {
     "name": "stdout",
     "output_type": "stream",
     "text": [
      "The character is a consonant\n"
     ]
    }
   ],
   "source": [
    "#9. Write a program that prompts the user to input a character and determine the character is vowel or consonant.\n",
    "\n",
    "letter = input(\"Enter a character:\")\n",
    "if letter == \"a\" or letter == \"e\" or letter == \"i\" or letter == \"o\" or letter == \"u\":\n",
    "    print(\"The character is a vowel\")\n",
    "else:\n",
    "    print(\"The character is a consonant\")\n",
    "    "
   ]
  },
  {
   "cell_type": "code",
   "execution_count": null,
   "id": "3f686900-9393-4dc9-9420-b76b0405aa12",
   "metadata": {},
   "outputs": [],
   "source": []
  }
 ],
 "metadata": {
  "kernelspec": {
   "display_name": "Python 3 (ipykernel)",
   "language": "python",
   "name": "python3"
  },
  "language_info": {
   "codemirror_mode": {
    "name": "ipython",
    "version": 3
   },
   "file_extension": ".py",
   "mimetype": "text/x-python",
   "name": "python",
   "nbconvert_exporter": "python",
   "pygments_lexer": "ipython3",
   "version": "3.12.4"
  }
 },
 "nbformat": 4,
 "nbformat_minor": 5
}
