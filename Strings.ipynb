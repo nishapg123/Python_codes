{
 "cells": [
  {
   "cell_type": "markdown",
   "id": "8db1a4d8",
   "metadata": {},
   "source": [
    "### Strings\n",
    "1. Write a program that accepts a string from user. Your program should count and display number of vowels in that string. \n",
    "\n",
    "2. Write a program that reads a string from keyboard and display:\n",
    "* The number of uppercase letters in the string\n",
    "* The number of lowercase letters in the string\n",
    "* The number of digits in the string\n",
    "* The number of whitespace characters in the string \n",
    "\n",
    "3. Write a Python program that accepts a string from user. Your program should create and display a new string where the first and last characters have been exchanged.\n",
    "\n",
    "For example if the user enters the string 'HELLO' then new string would be 'OELLH' \n",
    "\n",
    "4. Write a Python program that accepts a string from user. Your program should create a new string in reverse of first string and display it.\n",
    "\n",
    "For example if the user enters the string 'EXAM' then new string would be 'MAXE' \n",
    "\n",
    "5. Write a Python program that accepts a string from user. Your program should create a new string by shifting one position to left.\n",
    "\n",
    "For example if the user enters the string 'examination 2021' then new string would be 'xamination 2021e' \n",
    "\n",
    "6. Write a program that asks the user to input his name and print its initials. Assuming that the user always types first name, middle name and last name and does not include any unnecessary spaces.\n",
    "\n",
    "For example, if the user enters Ajay Kumar Garg the program should display A. K. G.\n",
    "Note:Don't use split() method \n",
    "\n",
    "7. A palindrome is a string that reads the same backward as forward. For example, the words dad, madam and radar are all palindromes. Write a programs that determines whether the string is a palindrome.\n",
    "\n",
    "Note: do not use reverse() method \n",
    "\n",
    "8. Write a program that display following output:\n",
    "SHIFT\n",
    "HIFTS\n",
    "IFTSH\n",
    "FTSHI\n",
    "TSHIF\n",
    "SHIFT Solution\n",
    "\n",
    "9. Write a program in python that accepts a string to setup a passwords. Your entered password must meet the following requirements:\n",
    "\n",
    "The password must be at least eight characters long.\n",
    "It must contain at least one uppercase letter.\n",
    "It must contain at least one lowercase letter.\n",
    "It must contain at least one numeric digit.\n",
    "Your program should should perform this validation."
   ]
  },
  {
   "cell_type": "code",
   "execution_count": 8,
   "id": "a2d34ec3",
   "metadata": {},
   "outputs": [
    {
     "name": "stdin",
     "output_type": "stream",
     "text": [
      "Enter the string: nishaei\n"
     ]
    },
    {
     "name": "stdout",
     "output_type": "stream",
     "text": [
      "4\n"
     ]
    }
   ],
   "source": [
    "#1\n",
    "str = input(\"Enter the string:\")\n",
    "count =0\n",
    "vowel = \"aeiouAEIOU\"\n",
    "for alph in str:\n",
    "    if (alph in vowel):\n",
    "        count+=1\n",
    "print(count)\n"
   ]
  },
  {
   "cell_type": "code",
   "execution_count": 12,
   "id": "50860b6a-6f73-4273-92b7-21cbc8ef0546",
   "metadata": {},
   "outputs": [
    {
     "name": "stdin",
     "output_type": "stream",
     "text": [
      "Enter the string: ggrrjFFK 123 1336\n"
     ]
    },
    {
     "name": "stdout",
     "output_type": "stream",
     "text": [
      "there are 3 uppercase, 5 lowercase, 7 digits and 2 space\n"
     ]
    }
   ],
   "source": [
    "#2\n",
    "string = input(\"Enter the string:\")\n",
    "upper =0\n",
    "lower =0\n",
    "digit =0\n",
    "space =0\n",
    "for alph in string:\n",
    "    if (alph.isupper()):\n",
    "        upper+=1\n",
    "    elif (alph.islower()):\n",
    "        lower+=1\n",
    "    elif (alph.isdigit()):\n",
    "        digit+=1\n",
    "    elif (alph.isspace()):\n",
    "        space+=1\n",
    "    else:\n",
    "        print(\"Not in list\")\n",
    "print(f\"there are {upper} uppercase, {lower} lowercase, {digit} digits and {space} space\")"
   ]
  },
  {
   "cell_type": "code",
   "execution_count": 8,
   "id": "d9b18773-127d-44da-9587-07a80708783f",
   "metadata": {},
   "outputs": [
    {
     "name": "stdout",
     "output_type": "stream",
     "text": [
      "4\n"
     ]
    },
    {
     "data": {
      "text/plain": [
       "'eodc'"
      ]
     },
     "execution_count": 8,
     "metadata": {},
     "output_type": "execute_result"
    }
   ],
   "source": [
    "#3\n",
    "def front_back(string):\n",
    "    a= len(string)\n",
    "    print(a)\n",
    "    if a<=1:\n",
    "       return string\n",
    "    else:\n",
    "        string = string[-1] + string[1:-1] + string[0]\n",
    "    return(string)\n",
    "front_back('code')"
   ]
  },
  {
   "cell_type": "code",
   "execution_count": 6,
   "id": "cecb2914-4332-47f7-b436-0670d40e9a94",
   "metadata": {},
   "outputs": [
    {
     "name": "stdin",
     "output_type": "stream",
     "text": [
      "Enter the string: gjj\n"
     ]
    },
    {
     "name": "stdout",
     "output_type": "stream",
     "text": [
      "jjg\n"
     ]
    }
   ],
   "source": [
    "#4\n",
    "string = input(\"Enter the string:\")\n",
    "print(string[::-1])"
   ]
  },
  {
   "cell_type": "code",
   "execution_count": 13,
   "id": "529946c5-74e8-43ea-886a-969297294756",
   "metadata": {},
   "outputs": [
    {
     "name": "stdin",
     "output_type": "stream",
     "text": [
      "Enter the string: examination 2021\n"
     ]
    },
    {
     "name": "stdout",
     "output_type": "stream",
     "text": [
      "xamination 2021e\n"
     ]
    }
   ],
   "source": [
    "#5\n",
    "str1 = input(\"Enter the string:\")\n",
    "a=len(str1)\n",
    "print(str1[1:a+1]+str1[0])"
   ]
  },
  {
   "cell_type": "code",
   "execution_count": 26,
   "id": "3681f70c-91b8-49dd-8852-5e0ae7da7680",
   "metadata": {},
   "outputs": [
    {
     "name": "stdin",
     "output_type": "stream",
     "text": [
      "Enter the string: Nisha Gopu\n"
     ]
    },
    {
     "name": "stdout",
     "output_type": "stream",
     "text": [
      "N.G\n"
     ]
    }
   ],
   "source": [
    "#6\n",
    "str1 = input(\"Enter the string:\")\n",
    "initial=\"\"\n",
    "for char in str1:\n",
    "    if char.isupper():\n",
    "        initial+=char\n",
    "print(\".\".join(initial))"
   ]
  },
  {
   "cell_type": "code",
   "execution_count": 27,
   "id": "b3450147-c9c9-46e9-ac39-fb532646aa66",
   "metadata": {},
   "outputs": [
    {
     "name": "stdin",
     "output_type": "stream",
     "text": [
      "Enter the string: nisha\n"
     ]
    },
    {
     "name": "stdout",
     "output_type": "stream",
     "text": [
      "ahsin\n"
     ]
    }
   ],
   "source": [
    "#7\n",
    "str1 = input(\"Enter the string:\")\n",
    "print(str1[::-1])"
   ]
  },
  {
   "cell_type": "code",
   "execution_count": 36,
   "id": "1aacf467-8e48-41ac-8313-bf4bb0726875",
   "metadata": {},
   "outputs": [
    {
     "name": "stdin",
     "output_type": "stream",
     "text": [
      "Enter the string: shift\n"
     ]
    },
    {
     "name": "stdout",
     "output_type": "stream",
     "text": [
      "hifts\n",
      "iftsh\n",
      "ftshi\n",
      "tshif\n",
      "shift\n"
     ]
    }
   ],
   "source": [
    "#8\n",
    "str1 = input(\"Enter the string:\")\n",
    "a=len(str1)\n",
    "for i in range(1,a+1):\n",
    "    str2=str1[i:a+1]\n",
    "    str3=str1[0:i]\n",
    "    if str2 != str1:\n",
    "        print(str2+str3)"
   ]
  },
  {
   "cell_type": "code",
   "execution_count": null,
   "id": "c60c9e94-d063-4d84-afe2-33ab9b873b49",
   "metadata": {},
   "outputs": [],
   "source": [
    "Write a program in python that accepts a string to setup a passwords. Your entered password must meet the following requirements:\n",
    "\n",
    "The password must be at least eight characters long.\n",
    "It must contain at least one uppercase letter.\n",
    "It must contain at least one lowercase letter.\n",
    "It must contain at least one numeric digit.\n",
    "Your program should should perform this validation."
   ]
  },
  {
   "cell_type": "code",
   "execution_count": 44,
   "id": "e7acf85f-292e-4e96-9fbb-00fccd131815",
   "metadata": {},
   "outputs": [
    {
     "name": "stdin",
     "output_type": "stream",
     "text": [
      "Enter the string: Nisha78986nbhjghsh\n"
     ]
    },
    {
     "name": "stdout",
     "output_type": "stream",
     "text": [
      "Contains uppercase letter\n",
      "Contains lowercase letter\n",
      "Contains digits\n",
      "Nisha78986nbhjghsh\n"
     ]
    }
   ],
   "source": [
    "#9\n",
    "str1 = input(\"Enter the string:\")\n",
    "if (len(str1) >= 8):\n",
    "    if (char.isupper() for char in str1):\n",
    "           print(\"Contains uppercase letter\")\n",
    "    if (char.islower() for char in str1):\n",
    "           print(\"Contains lowercase letter\")\n",
    "    if (char.isdigit() for char in str1):\n",
    "           print(\"Contains digits\")\n",
    "    else:\n",
    "        print(\"Password not valid\")\n",
    "\n",
    "else:\n",
    "    print(\"Password should contain atleast 8 letters\")\n",
    "print(str1)\n",
    "    "
   ]
  },
  {
   "cell_type": "code",
   "execution_count": null,
   "id": "466c9a02-e21f-4b2f-9090-24ffb63a42c8",
   "metadata": {},
   "outputs": [],
   "source": []
  },
  {
   "cell_type": "code",
   "execution_count": null,
   "id": "6316cc1a-5f79-4485-b88b-f94188ac9032",
   "metadata": {},
   "outputs": [],
   "source": []
  }
 ],
 "metadata": {
  "kernelspec": {
   "display_name": "Python 3 (ipykernel)",
   "language": "python",
   "name": "python3"
  },
  "language_info": {
   "codemirror_mode": {
    "name": "ipython",
    "version": 3
   },
   "file_extension": ".py",
   "mimetype": "text/x-python",
   "name": "python",
   "nbconvert_exporter": "python",
   "pygments_lexer": "ipython3",
   "version": "3.12.4"
  }
 },
 "nbformat": 4,
 "nbformat_minor": 5
}
