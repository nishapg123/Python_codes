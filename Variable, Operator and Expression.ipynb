{
 "cells": [
  {
   "cell_type": "markdown",
   "id": "5474b024",
   "metadata": {},
   "source": [
    "### Variable, Operator and Expression\n",
    "\n",
    "1. Write a program that asks the user for his name and then welcomes him. The output should look like this :\n",
    "\n",
    "Enter your name : Saksham\n",
    "Hello Saksham\n",
    "Solution\n",
    "2. Write a program that prompts the user to enter two integers and display the total on the screen. Solution\n",
    "\n",
    "3. Write a program that prompts the user to input a Celsius temperature and outputs the equivalent temperature in Fahrenheit. The formula to convert the temperature is: F = 9/5 C + 32 where F is the Fahrenheit temperature and C is the Celsius temperature. Solution\n",
    "\n",
    "4. Write a program which accept principle, rate and time from user and print the simple interest. The formula to calculate simple interest is: simple interest = principle x rate x time / 100 Solution\n",
    "\n",
    "5. Write a program that accepts seconds from keyboard as integer. Your program should converts seconds in hours, minutes and seconds. Your output should like this :\n",
    "\n",
    "Enter seconds: 13400\n",
    "Hours: 3\n",
    "Minutes: 43\n",
    "Seconds: 20  Solution\n",
    "6. Write a program that prompts the user to enter number in two variables and swap the contents of the variables. Solution\n",
    "\n",
    "7. Write a program that prompts the user to enter number in two variables and swap the contents of the variables.(Do not declare extra variable.) Solution\n",
    "\n",
    "8. Write a program that prompts the user to input the radius of a circle and outputs the area and circumference of the circle. The formula is\n",
    "Area = pi x radius2\n",
    "Circumference = 2 x pi x radius Solution"
   ]
  },
  {
   "cell_type": "code",
   "execution_count": 2,
   "id": "20e7f441",
   "metadata": {},
   "outputs": [
    {
     "name": "stdin",
     "output_type": "stream",
     "text": [
      "Enter your name: nisha\n"
     ]
    },
    {
     "name": "stdout",
     "output_type": "stream",
     "text": [
      "Hello nisha\n"
     ]
    }
   ],
   "source": [
    "#1\n",
    "name = input(\"Enter your name:\")\n",
    "print(f\"Hello {name}\")"
   ]
  },
  {
   "cell_type": "code",
   "execution_count": 4,
   "id": "90b2db7f-8e06-4c95-9868-906262a4ff7f",
   "metadata": {},
   "outputs": [
    {
     "name": "stdin",
     "output_type": "stream",
     "text": [
      "Enter first num: 2\n",
      "Enter sec num: 3\n"
     ]
    },
    {
     "name": "stdout",
     "output_type": "stream",
     "text": [
      "5\n"
     ]
    }
   ],
   "source": [
    "#2\n",
    "a=int(input(\"Enter first num:\"))\n",
    "b=int(input(\"Enter sec num:\"))\n",
    "print(a+b)"
   ]
  },
  {
   "cell_type": "code",
   "execution_count": 5,
   "id": "bc636dac-7600-4838-a827-1d0839996b8f",
   "metadata": {},
   "outputs": [
    {
     "name": "stdin",
     "output_type": "stream",
     "text": [
      "The temp in Celcius 96\n"
     ]
    },
    {
     "name": "stdout",
     "output_type": "stream",
     "text": [
      "204.8\n"
     ]
    }
   ],
   "source": [
    "#3\n",
    "C = int(input(\"The temp in Celcius\"))\n",
    "temp_F = (9/5) * C + 32\n",
    "print(temp_F)"
   ]
  },
  {
   "cell_type": "code",
   "execution_count": 7,
   "id": "3ce22fc7-6106-4e18-809a-0536e1ec6599",
   "metadata": {},
   "outputs": [
    {
     "name": "stdin",
     "output_type": "stream",
     "text": [
      "Enter the principle: 300\n",
      "Enter the rate: 2.3\n",
      "Enter the time: 3\n"
     ]
    },
    {
     "name": "stdout",
     "output_type": "stream",
     "text": [
      "20.7\n"
     ]
    }
   ],
   "source": [
    "#4\n",
    "\n",
    "P = float(input(\"Enter the principle:\"))\n",
    "R = float(input(\"Enter the rate:\"))\n",
    "T = float(input(\"Enter the time:\"))\n",
    "SI = (P * R * T) / 100\n",
    "print(SI)\n"
   ]
  },
  {
   "cell_type": "code",
   "execution_count": 10,
   "id": "f7c58af9-9b2a-4f25-a7a8-91d250b6e816",
   "metadata": {},
   "outputs": [
    {
     "name": "stdin",
     "output_type": "stream",
     "text": [
      "Enter the seconds: 3653790\n"
     ]
    },
    {
     "name": "stdout",
     "output_type": "stream",
     "text": [
      "Hours: 1014 Minutes: 56 Seconds: 56\n"
     ]
    }
   ],
   "source": [
    "#5\n",
    "sec = int(input(\"Enter the seconds:\"))\n",
    "hour = sec//3600\n",
    "rsec = sec % 3600\n",
    "minu = rsec // 60\n",
    "finsec = minu % 60\n",
    "\n",
    "print(f\"Hours: {hour} Minutes: {minu} Seconds: {finsec}\")"
   ]
  },
  {
   "cell_type": "code",
   "execution_count": 14,
   "id": "5e230564-6298-42d1-aaec-a06ea69ba0e9",
   "metadata": {},
   "outputs": [
    {
     "name": "stdin",
     "output_type": "stream",
     "text": [
      "Enter a: 23\n",
      "Enter b: 2\n"
     ]
    },
    {
     "name": "stdout",
     "output_type": "stream",
     "text": [
      "2 23\n"
     ]
    }
   ],
   "source": [
    "#6\n",
    "a = int(input(\"Enter a:\"))\n",
    "b = int(input(\"Enter b:\"))\n",
    "a,b = b,a\n",
    "print(a,b)"
   ]
  },
  {
   "cell_type": "code",
   "execution_count": null,
   "id": "931117e9-cecb-480f-8482-5e9604d114c6",
   "metadata": {},
   "outputs": [],
   "source": [
    "#7\n",
    "a = int(input(\"Enter a:\"))\n",
    "b = int(input(\"Enter b:\"))\n",
    "a,b = b,a\n",
    "print(a,b)"
   ]
  },
  {
   "cell_type": "code",
   "execution_count": 15,
   "id": "dd211e83-feac-4dd5-8fd1-24f18fff7440",
   "metadata": {},
   "outputs": [
    {
     "name": "stdin",
     "output_type": "stream",
     "text": [
      "Enter the radius: 45\n"
     ]
    },
    {
     "name": "stdout",
     "output_type": "stream",
     "text": [
      "Area = 6358.500000000001, Circumference = 282.6\n"
     ]
    }
   ],
   "source": [
    "#8\n",
    "r = int(input(\"Enter the radius:\"))\n",
    "Area = 3.14 * r * r\n",
    "Circumference = 2 * 3.14 * r\n",
    "print(f\"Area = {Area}, Circumference = {Circumference}\")"
   ]
  },
  {
   "cell_type": "code",
   "execution_count": null,
   "id": "82b9ea54-f962-4973-8beb-98aaa5d12c87",
   "metadata": {},
   "outputs": [],
   "source": []
  }
 ],
 "metadata": {
  "kernelspec": {
   "display_name": "Python 3 (ipykernel)",
   "language": "python",
   "name": "python3"
  },
  "language_info": {
   "codemirror_mode": {
    "name": "ipython",
    "version": 3
   },
   "file_extension": ".py",
   "mimetype": "text/x-python",
   "name": "python",
   "nbconvert_exporter": "python",
   "pygments_lexer": "ipython3",
   "version": "3.12.4"
  }
 },
 "nbformat": 4,
 "nbformat_minor": 5
}
